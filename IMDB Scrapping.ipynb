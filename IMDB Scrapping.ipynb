{
 "cells": [
  {
   "cell_type": "code",
   "execution_count": null,
   "id": "b82c5592",
   "metadata": {},
   "outputs": [],
   "source": [
    "# Check only next cell all others are trail cases"
   ]
  },
  {
   "cell_type": "code",
   "execution_count": 27,
   "id": "9e8c5535",
   "metadata": {},
   "outputs": [
    {
     "name": "stdout",
     "output_type": "stream",
     "text": [
      "1000.  The Handmaid's Tale (63 min)\n",
      "1001. Step Sisters (108 min)\n",
      "1009. Sebelum Iblis Menjemput (110 min)\n",
      "1010. Trouble Is My Business (116 min)\n",
      "1020. The After Party (120 min)\n",
      "1021. Sudani from Nigeria (123 min)\n",
      "1062. Napszállta (142 min)\n",
      "1153. James Acaster: Repertoire (205 min)\n",
      "1174. 1983 (448 min)\n",
      "4539. La flor (808 min)\n",
      "7334. Women Make Film: A New Road Movie Through Cinema (840 min)\n",
      "The movie with the maximum runtime between 1000 and 8000 is: 7334. Women Make Film: A New Road Movie Through Cinema (840 min)\n"
     ]
    }
   ],
   "source": [
    "import requests\n",
    "from bs4 import BeautifulSoup\n",
    "\n",
    "# URL template for IMDb search\n",
    "url_template = 'https://www.imdb.com/search/title/?release_date=2018-01-01,2018-12-31&sort=num_votes,desc&start={page_num}'\n",
    "\n",
    "# Initialize variables to store the maximum runtime and the corresponding movie details\n",
    "max_runtime = 0\n",
    "max_runtime_movie = ''\n",
    "\n",
    "# Loop through search result pages\n",
    "for page_num in range(1, 14147, 50):  # Assuming 707,303 titles with 50 titles per page\n",
    "    url = url_template.format(page_num=page_num)\n",
    "    \n",
    "    # Make a GET request to the URL\n",
    "    response = requests.get(url)\n",
    "    \n",
    "    # Parse the HTML content using BeautifulSoup\n",
    "    soup = BeautifulSoup(response.content, 'html.parser')\n",
    "    \n",
    "    # Find all the movie containers on the page\n",
    "    movie_containers = soup.find_all('div', class_='lister-item-content')\n",
    "\n",
    "    # Loop through the movie containers\n",
    "    for container in movie_containers:\n",
    "        # Extract the serial number\n",
    "        serial_number_text = container.find('span', class_='lister-item-index unbold text-primary').text.strip('. ')\n",
    "        serial_number = int(serial_number_text.replace(',', ''))\n",
    "        \n",
    "        # Check if the serial number is within the range of interest\n",
    "        if 1000 <= serial_number <= 8000:\n",
    "            # Extract the movie name\n",
    "            movie_name = container.find('a').text\n",
    "            #print(movie_name)\n",
    "            \n",
    "            # Extract the runtime if it exists\n",
    "            runtime_element = container.find('span', class_='runtime')\n",
    "            if runtime_element:\n",
    "                runtime = int(runtime_element.text.split()[0])\n",
    "                #print(runtime)\n",
    "            else:\n",
    "                runtime = 0\n",
    "            \n",
    "            # Update the maximum runtime and movie details if necessary\n",
    "            if runtime > max_runtime:\n",
    "                max_runtime = runtime\n",
    "                max_runtime_movie = f\"{serial_number}. {movie_name} ({runtime} min)\"\n",
    "                print(max_runtime_movie)\n",
    "\n",
    "# Print the movie with the maximum runtime\n",
    "print(f\"The movie with the maximum runtime between 1000 and 8000 is: {max_runtime_movie}\")\n"
   ]
  },
  {
   "cell_type": "code",
   "execution_count": null,
   "id": "2d9d2c00",
   "metadata": {},
   "outputs": [],
   "source": []
  }
 ],
 "metadata": {
  "kernelspec": {
   "display_name": "Python 3 (ipykernel)",
   "language": "python",
   "name": "python3"
  },
  "language_info": {
   "codemirror_mode": {
    "name": "ipython",
    "version": 3
   },
   "file_extension": ".py",
   "mimetype": "text/x-python",
   "name": "python",
   "nbconvert_exporter": "python",
   "pygments_lexer": "ipython3",
   "version": "3.10.12"
  }
 },
 "nbformat": 4,
 "nbformat_minor": 5
}
